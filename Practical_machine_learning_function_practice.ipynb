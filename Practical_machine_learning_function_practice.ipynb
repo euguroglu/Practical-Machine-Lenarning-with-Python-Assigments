{
  "nbformat": 4,
  "nbformat_minor": 0,
  "metadata": {
    "colab": {
      "name": "Practical_machine_learning_function_practice.ipynb",
      "provenance": [],
      "authorship_tag": "ABX9TyOrQvsHhQb19XntNlih+tIQ",
      "include_colab_link": true
    },
    "kernelspec": {
      "name": "python3",
      "display_name": "Python 3"
    }
  },
  "cells": [
    {
      "cell_type": "markdown",
      "metadata": {
        "id": "view-in-github",
        "colab_type": "text"
      },
      "source": [
        "<a href=\"https://colab.research.google.com/github/euguroglu/Practical-Machine-Lenarning-with-Python-Assigments/blob/master/Practical_machine_learning_function_practice.ipynb\" target=\"_parent\"><img src=\"https://colab.research.google.com/assets/colab-badge.svg\" alt=\"Open In Colab\"/></a>"
      ]
    },
    {
      "cell_type": "markdown",
      "metadata": {
        "id": "24s12-mZ0979",
        "colab_type": "text"
      },
      "source": [
        "**Standart Deviation Function Example**"
      ]
    },
    {
      "cell_type": "code",
      "metadata": {
        "id": "pVeWb4T903My",
        "colab_type": "code",
        "colab": {}
      },
      "source": [
        "# We will need mean value of the array to compute std deviation, therefore:\n",
        "def mean(array):\n",
        "  n=len(array)\n",
        "  sum=0\n",
        "  for i in array:\n",
        "    sum = sum + i\n",
        "  return sum/n"
      ],
      "execution_count": 1,
      "outputs": []
    },
    {
      "cell_type": "code",
      "metadata": {
        "id": "GJG6p5c109CN",
        "colab_type": "code",
        "colab": {
          "base_uri": "https://localhost:8080/",
          "height": 34
        },
        "outputId": "c1e0fa5e-c522-4a5c-ce35-0c3cb1185c17"
      },
      "source": [
        "mean((5,6,7,8))"
      ],
      "execution_count": 4,
      "outputs": [
        {
          "output_type": "execute_result",
          "data": {
            "text/plain": [
              "6.5"
            ]
          },
          "metadata": {
            "tags": []
          },
          "execution_count": 4
        }
      ]
    },
    {
      "cell_type": "code",
      "metadata": {
        "id": "e4_rFFGJ1-Hy",
        "colab_type": "code",
        "colab": {}
      },
      "source": [
        "# Now we will define std. function using mean function that we created before\n",
        "def stddev(array):\n",
        "  average = mean(array)\n",
        "  n=len(array)\n",
        "  sum = 0\n",
        "  for i in array:\n",
        "    variance = i - average\n",
        "    error = variance **2\n",
        "    sum = sum + error\n",
        "  return sum/n"
      ],
      "execution_count": 7,
      "outputs": []
    },
    {
      "cell_type": "code",
      "metadata": {
        "id": "zB36zJVi2plQ",
        "colab_type": "code",
        "colab": {
          "base_uri": "https://localhost:8080/",
          "height": 34
        },
        "outputId": "d27d644b-71ee-4cec-de78-690407bda400"
      },
      "source": [
        "stddev((1,2,3))"
      ],
      "execution_count": 9,
      "outputs": [
        {
          "output_type": "execute_result",
          "data": {
            "text/plain": [
              "0.6666666666666666"
            ]
          },
          "metadata": {
            "tags": []
          },
          "execution_count": 9
        }
      ]
    },
    {
      "cell_type": "code",
      "metadata": {
        "id": "o2TGf8Pu2uD5",
        "colab_type": "code",
        "colab": {}
      },
      "source": [
        ""
      ],
      "execution_count": null,
      "outputs": []
    }
  ]
}
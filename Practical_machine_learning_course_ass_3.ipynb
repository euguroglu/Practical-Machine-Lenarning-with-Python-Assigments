{
  "nbformat": 4,
  "nbformat_minor": 0,
  "metadata": {
    "colab": {
      "name": "Practical_machine_learning_course_ass_3.ipynb",
      "provenance": [],
      "authorship_tag": "ABX9TyMMx7rkcxwvMJfzpnQSTJYD",
      "include_colab_link": true
    },
    "kernelspec": {
      "name": "python3",
      "display_name": "Python 3"
    }
  },
  "cells": [
    {
      "cell_type": "markdown",
      "metadata": {
        "id": "view-in-github",
        "colab_type": "text"
      },
      "source": [
        "<a href=\"https://colab.research.google.com/github/euguroglu/Practical-Machine-Lenarning-with-Python-Assigments/blob/master/Practical_machine_learning_course_ass_3.ipynb\" target=\"_parent\"><img src=\"https://colab.research.google.com/assets/colab-badge.svg\" alt=\"Open In Colab\"/></a>"
      ]
    },
    {
      "cell_type": "code",
      "metadata": {
        "id": "oXX1oBEGkk0f",
        "colab_type": "code",
        "colab": {
          "base_uri": "https://localhost:8080/",
          "height": 34
        },
        "outputId": "0f4cc565-8d1a-421e-b5a8-db30083fe0fb"
      },
      "source": [
        "vector_a = [1., 2., 3.]\n",
        "vector_b = [2., 2., 2.]\n",
        "vector_product = []\n",
        "for i in vector_a:\n",
        "  \n",
        "  for j in vector_b:\n",
        "    \n",
        "    vector_product.append(i*j)\n",
        "     \n",
        "print('Answer is {:.2f}'.format(sum(vector_product)))\n",
        "\n"
      ],
      "execution_count": 28,
      "outputs": [
        {
          "output_type": "stream",
          "text": [
            "Answer is 36.00\n"
          ],
          "name": "stdout"
        }
      ]
    },
    {
      "cell_type": "code",
      "metadata": {
        "id": "qQFS64v0matz",
        "colab_type": "code",
        "colab": {}
      },
      "source": [
        ""
      ],
      "execution_count": null,
      "outputs": []
    }
  ]
}